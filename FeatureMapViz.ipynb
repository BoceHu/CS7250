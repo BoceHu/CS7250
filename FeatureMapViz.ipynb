{
 "cells": [
  {
   "cell_type": "markdown",
   "source": "# CS7250",
   "metadata": {
    "id": "f3Vr57U3j4xD"
   }
  },
  {
   "metadata": {},
   "cell_type": "markdown",
   "source": "# Download Dataset"
  },
  {
   "cell_type": "code",
   "execution_count": null,
   "metadata": {
    "colab": {
     "base_uri": "https://localhost:8080/"
    },
    "id": "-UXsv-HFK64P",
    "executionInfo": {
     "status": "ok",
     "timestamp": 1713916152797,
     "user_tz": 240,
     "elapsed": 22815,
     "user": {
      "displayName": "Alexander Estornell",
      "userId": "10611422158728444955"
     }
    },
    "outputId": "fff4b64d-b049-417e-df93-dbbaf2efb13e"
   },
   "outputs": [
    {
     "output_type": "stream",
     "name": "stdout",
     "text": [
      "Downloading...\n",
      "From (original): https://drive.google.com/uc?id=16IOvrVM6DdVyg4e2XEFffJsjL9IHCOqV\n",
      "From (redirected): https://drive.google.com/uc?id=16IOvrVM6DdVyg4e2XEFffJsjL9IHCOqV&confirm=t&uuid=a4177829-8f51-4cc4-a8e2-36fd445506df\n",
      "To: /content/cifar-10-python.tar.gz\n",
      "100% 775M/775M [00:07<00:00, 105MB/s]\n"
     ]
    }
   ],
   "source": [
    "# download the dataset from the official website\n",
    "\n",
    "!gdown 'https://drive.google.com/uc?id=16IOvrVM6DdVyg4e2XEFffJsjL9IHCOqV' --output /content/cifar-10-python.tar.gz\n",
    "!tar -xzf /content/cifar-10-python.tar.gz"
   ]
  },
  {
   "cell_type": "code",
   "source": [
    "# download the checkpoints\n",
    "!gdown 'https://drive.google.com/uc?id=1uBCAJ7OAhHVz3JT0QXbligl-b67_WGqL' --output /content/CNN.pth\n",
    "!gdown 'https://drive.google.com/uc?id=1ih64sIyw6wR3dY-aYzYsGXkm-YQpDCYJ' --output /content/D2.pth\n",
    "!gdown 'https://drive.google.com/uc?id=12qVV0cEBKlS8-RieEuRDrW4ZYqCPscBf' --output /content/D4.pth"
   ],
   "metadata": {
    "colab": {
     "base_uri": "https://localhost:8080/"
    },
    "id": "GZ2cpsjAN3fB",
    "executionInfo": {
     "status": "ok",
     "timestamp": 1713916157757,
     "user_tz": 240,
     "elapsed": 4965,
     "user": {
      "displayName": "Alexander Estornell",
      "userId": "10611422158728444955"
     }
    },
    "outputId": "d47d8ddb-f69f-4dd7-d9c9-9ac427d01b9e"
   },
   "execution_count": null,
   "outputs": [
    {
     "output_type": "stream",
     "name": "stdout",
     "text": [
      "Downloading...\n",
      "From (original): https://drive.google.com/uc?id=1uBCAJ7OAhHVz3JT0QXbligl-b67_WGqL\n",
      "From (redirected): https://drive.google.com/uc?id=1uBCAJ7OAhHVz3JT0QXbligl-b67_WGqL&confirm=t&uuid=d0640914-e66b-465b-a891-c3f4f4115f3c\n",
      "To: /content/CNN.pth\n",
      "100% 46.8M/46.8M [00:00<00:00, 109MB/s]\n",
      "Downloading...\n",
      "From: https://drive.google.com/uc?id=1ih64sIyw6wR3dY-aYzYsGXkm-YQpDCYJ\n",
      "To: /content/D2.pth\n",
      "100% 16.4M/16.4M [00:00<00:00, 82.8MB/s]\n",
      "Downloading...\n",
      "From (original): https://drive.google.com/uc?id=12qVV0cEBKlS8-RieEuRDrW4ZYqCPscBf\n",
      "From (redirected): https://drive.google.com/uc?id=12qVV0cEBKlS8-RieEuRDrW4ZYqCPscBf&confirm=t&uuid=dc787340-8309-4946-bd23-ae005906270b\n",
      "To: /content/D4.pth\n",
      "100% 59.8M/59.8M [00:00<00:00, 138MB/s]\n"
     ]
    }
   ]
  },
  {
   "cell_type": "markdown",
   "source": [
    "# Download the required dependencies"
   ],
   "metadata": {
    "id": "aFOMrVJGj9cW"
   }
  },
  {
   "cell_type": "code",
   "source": [
    "!pip install e2cnn\n",
    "!pip install einops"
   ],
   "metadata": {
    "colab": {
     "base_uri": "https://localhost:8080/"
    },
    "id": "JW2s-t00QV4D",
    "executionInfo": {
     "status": "ok",
     "timestamp": 1713916230145,
     "user_tz": 240,
     "elapsed": 72394,
     "user": {
      "displayName": "Alexander Estornell",
      "userId": "10611422158728444955"
     }
    },
    "outputId": "cdf4d43e-dfbb-4b0d-e5fa-12bb06403421"
   },
   "execution_count": null,
   "outputs": [
    {
     "output_type": "stream",
     "name": "stdout",
     "text": [
      "Collecting e2cnn\n",
      "  Downloading e2cnn-0.2.3-py3-none-any.whl (225 kB)\n",
      "\u001B[2K     \u001B[90m━━━━━━━━━━━━━━━━━━━━━━━━━━━━━━━━━━━━━━━━\u001B[0m \u001B[32m225.3/225.3 kB\u001B[0m \u001B[31m1.9 MB/s\u001B[0m eta \u001B[36m0:00:00\u001B[0m\n",
      "\u001B[?25hRequirement already satisfied: torch in /usr/local/lib/python3.10/dist-packages (from e2cnn) (2.2.1+cu121)\n",
      "Requirement already satisfied: numpy in /usr/local/lib/python3.10/dist-packages (from e2cnn) (1.25.2)\n",
      "Requirement already satisfied: scipy in /usr/local/lib/python3.10/dist-packages (from e2cnn) (1.11.4)\n",
      "Requirement already satisfied: sympy in /usr/local/lib/python3.10/dist-packages (from e2cnn) (1.12)\n",
      "Requirement already satisfied: mpmath>=0.19 in /usr/local/lib/python3.10/dist-packages (from sympy->e2cnn) (1.3.0)\n",
      "Requirement already satisfied: filelock in /usr/local/lib/python3.10/dist-packages (from torch->e2cnn) (3.13.4)\n",
      "Requirement already satisfied: typing-extensions>=4.8.0 in /usr/local/lib/python3.10/dist-packages (from torch->e2cnn) (4.11.0)\n",
      "Requirement already satisfied: networkx in /usr/local/lib/python3.10/dist-packages (from torch->e2cnn) (3.3)\n",
      "Requirement already satisfied: jinja2 in /usr/local/lib/python3.10/dist-packages (from torch->e2cnn) (3.1.3)\n",
      "Requirement already satisfied: fsspec in /usr/local/lib/python3.10/dist-packages (from torch->e2cnn) (2023.6.0)\n",
      "Collecting nvidia-cuda-nvrtc-cu12==12.1.105 (from torch->e2cnn)\n",
      "  Using cached nvidia_cuda_nvrtc_cu12-12.1.105-py3-none-manylinux1_x86_64.whl (23.7 MB)\n",
      "Collecting nvidia-cuda-runtime-cu12==12.1.105 (from torch->e2cnn)\n",
      "  Using cached nvidia_cuda_runtime_cu12-12.1.105-py3-none-manylinux1_x86_64.whl (823 kB)\n",
      "Collecting nvidia-cuda-cupti-cu12==12.1.105 (from torch->e2cnn)\n",
      "  Using cached nvidia_cuda_cupti_cu12-12.1.105-py3-none-manylinux1_x86_64.whl (14.1 MB)\n",
      "Collecting nvidia-cudnn-cu12==8.9.2.26 (from torch->e2cnn)\n",
      "  Using cached nvidia_cudnn_cu12-8.9.2.26-py3-none-manylinux1_x86_64.whl (731.7 MB)\n",
      "Collecting nvidia-cublas-cu12==12.1.3.1 (from torch->e2cnn)\n",
      "  Using cached nvidia_cublas_cu12-12.1.3.1-py3-none-manylinux1_x86_64.whl (410.6 MB)\n",
      "Collecting nvidia-cufft-cu12==11.0.2.54 (from torch->e2cnn)\n",
      "  Using cached nvidia_cufft_cu12-11.0.2.54-py3-none-manylinux1_x86_64.whl (121.6 MB)\n",
      "Collecting nvidia-curand-cu12==10.3.2.106 (from torch->e2cnn)\n",
      "  Using cached nvidia_curand_cu12-10.3.2.106-py3-none-manylinux1_x86_64.whl (56.5 MB)\n",
      "Collecting nvidia-cusolver-cu12==11.4.5.107 (from torch->e2cnn)\n",
      "  Using cached nvidia_cusolver_cu12-11.4.5.107-py3-none-manylinux1_x86_64.whl (124.2 MB)\n",
      "Collecting nvidia-cusparse-cu12==12.1.0.106 (from torch->e2cnn)\n",
      "  Using cached nvidia_cusparse_cu12-12.1.0.106-py3-none-manylinux1_x86_64.whl (196.0 MB)\n",
      "Collecting nvidia-nccl-cu12==2.19.3 (from torch->e2cnn)\n",
      "  Using cached nvidia_nccl_cu12-2.19.3-py3-none-manylinux1_x86_64.whl (166.0 MB)\n",
      "Collecting nvidia-nvtx-cu12==12.1.105 (from torch->e2cnn)\n",
      "  Using cached nvidia_nvtx_cu12-12.1.105-py3-none-manylinux1_x86_64.whl (99 kB)\n",
      "Requirement already satisfied: triton==2.2.0 in /usr/local/lib/python3.10/dist-packages (from torch->e2cnn) (2.2.0)\n",
      "Collecting nvidia-nvjitlink-cu12 (from nvidia-cusolver-cu12==11.4.5.107->torch->e2cnn)\n",
      "  Using cached nvidia_nvjitlink_cu12-12.4.127-py3-none-manylinux2014_x86_64.whl (21.1 MB)\n",
      "Requirement already satisfied: MarkupSafe>=2.0 in /usr/local/lib/python3.10/dist-packages (from jinja2->torch->e2cnn) (2.1.5)\n",
      "Installing collected packages: nvidia-nvtx-cu12, nvidia-nvjitlink-cu12, nvidia-nccl-cu12, nvidia-curand-cu12, nvidia-cufft-cu12, nvidia-cuda-runtime-cu12, nvidia-cuda-nvrtc-cu12, nvidia-cuda-cupti-cu12, nvidia-cublas-cu12, nvidia-cusparse-cu12, nvidia-cudnn-cu12, nvidia-cusolver-cu12, e2cnn\n",
      "Successfully installed e2cnn-0.2.3 nvidia-cublas-cu12-12.1.3.1 nvidia-cuda-cupti-cu12-12.1.105 nvidia-cuda-nvrtc-cu12-12.1.105 nvidia-cuda-runtime-cu12-12.1.105 nvidia-cudnn-cu12-8.9.2.26 nvidia-cufft-cu12-11.0.2.54 nvidia-curand-cu12-10.3.2.106 nvidia-cusolver-cu12-11.4.5.107 nvidia-cusparse-cu12-12.1.0.106 nvidia-nccl-cu12-2.19.3 nvidia-nvjitlink-cu12-12.4.127 nvidia-nvtx-cu12-12.1.105\n",
      "Collecting einops\n",
      "  Downloading einops-0.7.0-py3-none-any.whl (44 kB)\n",
      "\u001B[2K     \u001B[90m━━━━━━━━━━━━━━━━━━━━━━━━━━━━━━━━━━━━━━━━\u001B[0m \u001B[32m44.6/44.6 kB\u001B[0m \u001B[31m817.7 kB/s\u001B[0m eta \u001B[36m0:00:00\u001B[0m\n",
      "\u001B[?25hInstalling collected packages: einops\n",
      "Successfully installed einops-0.7.0\n"
     ]
    }
   ]
  },
  {
   "cell_type": "markdown",
   "source": [
    "# Build the Equivariant Network"
   ],
   "metadata": {
    "id": "odZGunvQkDxW"
   }
  },
  {
   "cell_type": "code",
   "source": [
    "import torchvision.transforms.functional as TF\n",
    "import matplotlib.pyplot as plt\n",
    "import numpy as np\n",
    "import os\n",
    "import torchvision.transforms as transforms\n",
    "from PIL import Image"
   ],
   "metadata": {
    "id": "cxWjfrNZ3ASi"
   },
   "execution_count": null,
   "outputs": []
  },
  {
   "cell_type": "code",
   "source": [
    "# define model\n",
    "from e2cnn import gspaces\n",
    "from e2cnn import nn\n",
    "import torch\n",
    "import torch.nn.functional as F\n",
    "from einops import rearrange\n",
    "\n",
    "def conv2d(feat_type_in, feat_type_hid, kernel_size, stride=1, groups=1, dilation=1, initialize=False):\n",
    "    return nn.R2Conv(feat_type_in, feat_type_hid, kernel_size=kernel_size, stride=stride, dilation=dilation,\n",
    "                     padding=(kernel_size - 1) // 2, groups=groups, initialize=initialize)\n",
    "\n",
    "\n",
    "class EquiBasicBlock(torch.nn.Module):\n",
    "    def __init__(self, in_planes, out_planes, flip=False, quotient=False, N=4, initialize=True, stride=1,\n",
    "                 down_sample=None, dilation=1, kernel_size=3, norm_layer=None):\n",
    "        super(EquiBasicBlock, self).__init__()\n",
    "        if flip:\n",
    "            r2_act = gspaces.FlipRot2dOnR2(N=N)\n",
    "        else:\n",
    "            r2_act = gspaces.Rot2dOnR2(N=N)\n",
    "\n",
    "        if quotient:\n",
    "            if flip:\n",
    "                rep = r2_act.quotient_repr((None, 2))\n",
    "            else:\n",
    "                rep = r2_act.quotient_repr(2)\n",
    "        else:\n",
    "            rep = r2_act.regular_repr\n",
    "\n",
    "        feat_type_in = nn.FieldType(r2_act, [rep] * in_planes)\n",
    "        feat_type_hid = nn.FieldType(r2_act, [rep] * out_planes)\n",
    "\n",
    "        self.conv1 = conv2d(feat_type_in, feat_type_hid, kernel_size=kernel_size, initialize=initialize,\n",
    "                            dilation=dilation)\n",
    "\n",
    "        self.conv2 = conv2d(feat_type_hid, feat_type_hid, kernel_size=kernel_size, initialize=initialize,\n",
    "                            dilation=dilation)\n",
    "\n",
    "        self.relu = nn.ReLU(feat_type_hid)\n",
    "\n",
    "        self.down_sample = down_sample\n",
    "        self.stride = stride\n",
    "\n",
    "    def forward(self, x):\n",
    "        identity = x\n",
    "        out = self.conv1(x)\n",
    "        out = self.relu(out)\n",
    "        out = self.conv2(out)\n",
    "\n",
    "        if self.down_sample is not None:\n",
    "            identity = self.down_sample(identity)\n",
    "\n",
    "        out += identity\n",
    "        out = self.relu(out)\n",
    "\n",
    "        return out\n",
    "\n",
    "\n",
    "class ResNet_18(torch.nn.Module):\n",
    "    def __init__(self, block, layers, flip=False, quotient=False, N=4, initialize=True, insize=3):\n",
    "        super(ResNet_18, self).__init__()\n",
    "        self.N = N\n",
    "        self.quotient = quotient\n",
    "        if flip:\n",
    "            self.r2_act = gspaces.FlipRot2dOnR2(N=N)\n",
    "        else:\n",
    "            self.r2_act = gspaces.Rot2dOnR2(N=N)\n",
    "\n",
    "        if quotient:\n",
    "            if flip:\n",
    "                self.repr = self.r2_act.quotient_repr((None, 2))\n",
    "            else:\n",
    "                self.repr = self.r2_act.quotient_repr(2)\n",
    "        else:\n",
    "            self.repr = self.r2_act.regular_repr\n",
    "\n",
    "        self.in_planes = 4\n",
    "\n",
    "        feat_type_in = nn.FieldType(self.r2_act, [self.r2_act.trivial_repr] * insize)\n",
    "        feat_type_hid = nn.FieldType(self.r2_act, [self.repr] * self.in_planes)\n",
    "\n",
    "        self.conv1 = nn.R2Conv(feat_type_in, feat_type_hid,\n",
    "                               kernel_size=3, stride=1, padding=1, initialize=initialize)\n",
    "\n",
    "        self.conv2 = nn.R2Conv(feat_type_hid, feat_type_hid,\n",
    "                               kernel_size=3, stride=1, padding=1, initialize=initialize)\n",
    "        self.relu = nn.ReLU(feat_type_hid)\n",
    "\n",
    "        self.maxpool = nn.PointwiseMaxPool(feat_type_hid, kernel_size=2, stride=2, padding=0, ceil_mode=True)\n",
    "\n",
    "        self.layer1 = self._make_layer(block, 8, layers[0], stride=1, flip=flip, N=N, initialize=initialize,\n",
    "                                       quotient=quotient)\n",
    "        self.layer2 = self._make_layer(block, 16, layers[1], stride=1, flip=flip, N=N, initialize=initialize,\n",
    "                                       quotient=quotient, pool=True)\n",
    "        self.layer3 = self._make_layer(block, 32, layers[2], stride=1, flip=flip, N=N, initialize=initialize,\n",
    "                                       quotient=quotient, pool=True)\n",
    "        self.layer4 = self._make_layer(block, 64, layers[3], stride=1, flip=flip, N=N, initialize=initialize,\n",
    "                                       quotient=quotient, pool=True)\n",
    "\n",
    "    def _make_layer(self, block, out_planes, block_num, stride=1, flip=True, N=4, initialize=True, quotient=False,\n",
    "                    pool=False):\n",
    "        down_sample = None\n",
    "        if self.in_planes != out_planes:\n",
    "            down_sample = nn.SequentialModule(\n",
    "                nn.R2Conv(nn.FieldType(self.r2_act, [self.repr] * self.in_planes),\n",
    "                          nn.FieldType(self.r2_act, [self.repr] * out_planes),\n",
    "                          kernel_size=1, stride=stride, initialize=initialize),\n",
    "            )\n",
    "        if pool:\n",
    "            layers = [nn.PointwiseMaxPool(nn.FieldType(self.r2_act, [self.repr] * self.in_planes), kernel_size=2,\n",
    "                                          padding=0, ceil_mode=True)]\n",
    "        else:\n",
    "            layers = []\n",
    "\n",
    "        layers.append(block(self.in_planes, out_planes, stride=1, down_sample=down_sample, flip=flip, N=N,\n",
    "                            initialize=initialize, quotient=quotient))\n",
    "\n",
    "        self.in_planes = out_planes\n",
    "\n",
    "        for i in range(1, block_num):\n",
    "            layers.append(\n",
    "                block(self.in_planes, out_planes, stride=1, down_sample=None, flip=flip, N=N, initialize=initialize,\n",
    "                      quotient=quotient))\n",
    "\n",
    "        return torch.nn.Sequential(*layers)\n",
    "\n",
    "    def forward(self, x):\n",
    "\n",
    "        x = nn.GeometricTensor(x,\n",
    "                               nn.FieldType(self.r2_act, x.shape[1] * [self.r2_act.trivial_repr]))  # [1, 3, 128, 128]\n",
    "        x = self.conv1(x)  # [1, 32, 64, 64]\n",
    "        feature_1 = self.relu(x)  # [1, 32, 64, 64]\n",
    "\n",
    "        feature_1 = self.conv2(feature_1)\n",
    "        feature_1 = self.relu(feature_1)  # [1, 32, 64, 64]\n",
    "        # feature_1 = self.maxpool(feature_1)  # (1, 32, 32, 32)\n",
    "\n",
    "        feature_2 = self.layer1(feature_1)  # (1, 64, 64, 64)\n",
    "\n",
    "        feature_3 = self.layer2(feature_2)  # [1, 128, 32, 32]\n",
    "\n",
    "        feature_4 = self.layer3(feature_3)  # [1, 256, 16, 16]\n",
    "        feature_5 = self.layer4(feature_4)  # [1, 512, 8, 8]\n",
    "\n",
    "        return [feature_1, feature_2, feature_3, feature_4, feature_5]\n",
    "\n",
    "\n",
    "def resnet18(flip=False, N=4, initialize=True, quotient=False, insize=3):\n",
    "    model = ResNet_18(EquiBasicBlock, [2, 2, 2, 2], flip=flip, N=N, initialize=initialize, quotient=quotient, insize=insize)\n",
    "\n",
    "    return model\n",
    "\n",
    "\n",
    "def resnet34(flip=False, N=4, initialize=True, quotient=False, insize=3):\n",
    "    model = ResNet_18(EquiBasicBlock, [3, 4, 6, 3], flip=flip, N=N, initialize=initialize, quotient=quotient, insize=insize)\n",
    "\n",
    "    return model"
   ],
   "metadata": {
    "id": "BGOA5ujXP8kK"
   },
   "execution_count": null,
   "outputs": []
  },
  {
   "cell_type": "code",
   "source": [
    "class cifar10net(torch.nn.Module):\n",
    "    def __init__(self, num_classes=10, in_size=64, flip=False, last_quotient=False, N=8, initialize=True,\n",
    "                 backbone='resnet18'):\n",
    "        super(cifar10net, self).__init__()\n",
    "\n",
    "        if flip:\n",
    "            self.r2_act = gspaces.FlipRot2dOnR2(N=N)\n",
    "        else:\n",
    "            self.r2_act = gspaces.Rot2dOnR2(N=N)\n",
    "\n",
    "        if last_quotient:\n",
    "            if flip:\n",
    "                self.rep = self.r2_act.quotient_repr((None, 2))\n",
    "            else:\n",
    "                self.rep = self.r2_act.quotient_repr(2)\n",
    "        else:\n",
    "            self.rep = self.r2_act.regular_repr\n",
    "\n",
    "        self.feat_type_in = nn.FieldType(self.r2_act, [self.r2_act.regular_repr] * in_size)\n",
    "        self.feat_type_hid = nn.FieldType(self.r2_act, [self.r2_act.regular_repr] * in_size)\n",
    "\n",
    "        self.conv1 = nn.R2Conv(self.feat_type_in, self.feat_type_hid, kernel_size=3,\n",
    "                               padding=1, initialize=initialize)\n",
    "        self.relu = nn.ReLU(self.feat_type_hid)\n",
    "        self.linear = torch.nn.Linear(self.relu.out_type.size, num_classes)\n",
    "\n",
    "        if backbone == 'resnet18':\n",
    "            self.resnet = resnet18(flip=flip, N=N, initialize=initialize, quotient=False, insize=3)\n",
    "        elif backbone == 'resnet34':\n",
    "            self.resnet = resnet34(flip=flip, N=N, initialize=initialize, quotient=False, insize=3)\n",
    "\n",
    "    def forward(self, x):\n",
    "        out_res = self.resnet(x)\n",
    "\n",
    "        x1, x2, x3, x4, x5 = out_res\n",
    "\n",
    "        x = self.conv1(x5)\n",
    "        x = self.relu(x)\n",
    "        x = x.tensor\n",
    "\n",
    "        b, c, w, h = x.shape\n",
    "        out = F.avg_pool2d(x, (w, h))\n",
    "\n",
    "        out = out.view(out.size(0), -1)\n",
    "        out = self.linear(out)\n",
    "        # B C H W\n",
    "\n",
    "        return out, out_res\n"
   ],
   "metadata": {
    "id": "HmX7jvZkQSsJ"
   },
   "execution_count": null,
   "outputs": []
  },
  {
   "cell_type": "code",
   "source": [
    "class BasicBlock(torch.nn.Module):\n",
    "    expansion = 1\n",
    "\n",
    "    def __init__(self, in_channels, out_channels, stride=1, downsample=None):\n",
    "        super(BasicBlock, self).__init__()\n",
    "        self.conv1 = torch.nn.Conv2d(in_channels, out_channels, kernel_size=3, stride=stride, padding=1, bias=False)\n",
    "        self.bn1 = torch.nn.BatchNorm2d(out_channels)\n",
    "        self.relu = torch.nn.ReLU(inplace=True)\n",
    "        self.conv2 = torch.nn.Conv2d(out_channels, out_channels, kernel_size=3, stride=1, padding=1, bias=False)\n",
    "        self.bn2 = torch.nn.BatchNorm2d(out_channels)\n",
    "        self.downsample = downsample\n",
    "\n",
    "    def forward(self, x):\n",
    "        identity = x\n",
    "\n",
    "        out = self.conv1(x)\n",
    "        out = self.bn1(out)\n",
    "        out = self.relu(out)\n",
    "\n",
    "        out = self.conv2(out)\n",
    "        out = self.bn2(out)\n",
    "\n",
    "        if self.downsample is not None:\n",
    "            identity = self.downsample(x)\n",
    "\n",
    "        out += identity\n",
    "        out = self.relu(out)\n",
    "\n",
    "        return out\n",
    "\n",
    "\n",
    "class ResNet(torch.nn.Module):\n",
    "\n",
    "    def __init__(self, block, layers, num_classes=1000):\n",
    "        super(ResNet, self).__init__()\n",
    "        self.in_channels = 64\n",
    "        self.conv1 = torch.nn.Conv2d(3, 64, kernel_size=7, stride=2, padding=3, bias=False)\n",
    "        self.bn1 = torch.nn.BatchNorm2d(64)\n",
    "        self.relu = torch.nn.ReLU(inplace=True)\n",
    "        self.maxpool = torch.nn.MaxPool2d(kernel_size=3, stride=2, padding=1)\n",
    "        self.layer1 = self._make_layer(block, 64, layers[0])\n",
    "        self.layer2 = self._make_layer(block, 128, layers[1], stride=2)\n",
    "        self.layer3 = self._make_layer(block, 256, layers[2], stride=2)\n",
    "        self.layer4 = self._make_layer(block, 512, layers[3], stride=2)\n",
    "        self.avgpool = torch.nn.AdaptiveAvgPool2d((1, 1))\n",
    "        self.fc = torch.nn.Linear(512 * block.expansion, num_classes)\n",
    "\n",
    "    def _make_layer(self, block, out_channels, blocks, stride=1):\n",
    "        downsample = None\n",
    "        if stride != 1 or self.in_channels != out_channels * block.expansion:\n",
    "            downsample = torch.nn.Sequential(\n",
    "                torch.nn.Conv2d(self.in_channels, out_channels * block.expansion, kernel_size=1, stride=stride, bias=False),\n",
    "                torch.nn.BatchNorm2d(out_channels * block.expansion),\n",
    "            )\n",
    "\n",
    "        layers = []\n",
    "        layers.append(block(self.in_channels, out_channels, stride, downsample))\n",
    "        self.in_channels = out_channels * block.expansion\n",
    "        for _ in range(1, blocks):\n",
    "            layers.append(block(self.in_channels, out_channels))\n",
    "\n",
    "        return torch.nn.Sequential(*layers)\n",
    "\n",
    "    def forward(self, x):\n",
    "        x = self.conv1(x)\n",
    "        x = self.bn1(x)\n",
    "        x = self.relu(x)\n",
    "        x1 = self.maxpool(x)\n",
    "\n",
    "        x2 = self.layer1(x1)\n",
    "        x3 = self.layer2(x2)\n",
    "        x4 = self.layer3(x3)\n",
    "        x5 = self.layer4(x4)\n",
    "\n",
    "        x = self.avgpool(x5)\n",
    "        x = torch.flatten(x, 1)\n",
    "        x = self.fc(x)\n",
    "\n",
    "        return x, [x1, x2, x3, x4, x5]"
   ],
   "metadata": {
    "id": "dEheb5w7Rp5-"
   },
   "execution_count": null,
   "outputs": []
  },
  {
   "cell_type": "code",
   "source": [
    "def rotate_image(image, angle):\n",
    "\n",
    "    # rotates image using built in torch function\n",
    "    rotated_image = TF.rotate(image, angle)\n",
    "\n",
    "    return rotated_image"
   ],
   "metadata": {
    "id": "D3hH-_LTW6Z4"
   },
   "execution_count": null,
   "outputs": []
  },
  {
   "cell_type": "code",
   "source": [
    "def get_feature_map(output, N=4):\n",
    "\n",
    "    # input C x H x W\n",
    "    output_sum = torch.sum(output, dim=(1, 2))\n",
    "    # get first non zero channel\n",
    "    valid_channels = output_sum != 0\n",
    "    valid_channels = valid_channels.nonzero()\n",
    "    first_non_zero_channel_idx = valid_channels[0]\n",
    "    low = first_non_zero_channel_idx // N\n",
    "    high = low + N\n",
    "    # pooling to generate equivariant feature map\n",
    "    selected_slice = output[low:high]\n",
    "    equi_feature_map = torch.mean(selected_slice, dim=0)\n",
    "\n",
    "    return equi_feature_map\n",
    "\n",
    "def get_feature_map_2(output):\n",
    "    output2 = output.mean(dim=0,keepdim=True)\n",
    "    return output2"
   ],
   "metadata": {
    "id": "dJC_lJFaXyao"
   },
   "execution_count": null,
   "outputs": []
  },
  {
   "cell_type": "code",
   "source": [
    "eqnet = cifar10net(N=4, flip=True, initialize=True)\n",
    "# regular CNN\n",
    "net = ResNet(BasicBlock, [2, 2, 2, 2])\n",
    "\n",
    "device = torch.device(\"cuda:0\" if torch.cuda.is_available() else \"cpu\")\n",
    "net.to(device)\n",
    "eqnet.to(device)\n",
    "net.eval()\n",
    "eqnet.eval()"
   ],
   "metadata": {
    "colab": {
     "base_uri": "https://localhost:8080/"
    },
    "id": "iM_JnQNwxXrW",
    "executionInfo": {
     "status": "ok",
     "timestamp": 1713916258279,
     "user_tz": 240,
     "elapsed": 17865,
     "user": {
      "displayName": "Alexander Estornell",
      "userId": "10611422158728444955"
     }
    },
    "outputId": "352b6971-3c75-419e-e33d-cd7a1554e7b1"
   },
   "execution_count": null,
   "outputs": [
    {
     "output_type": "stream",
     "name": "stderr",
     "text": [
      "/usr/local/lib/python3.10/dist-packages/e2cnn/nn/modules/r2_conv/basisexpansion_singleblock.py:80: UserWarning: indexing with dtype torch.uint8 is now deprecated, please use a dtype torch.bool instead. (Triggered internally at ../aten/src/ATen/native/IndexingUtils.h:27.)\n",
      "  full_mask[mask] = norms.to(torch.uint8)\n"
     ]
    },
    {
     "output_type": "execute_result",
     "data": {
      "text/plain": [
       "cifar10net(\n",
       "  (conv1): R2Conv([Flip_4-Rotations(f=1.57080): {regular, regular, regular, regular, regular, regular, regular, regular, regular, regular, regular, regular, regular, regular, regular, regular, regular, regular, regular, regular, regular, regular, regular, regular, regular, regular, regular, regular, regular, regular, regular, regular, regular, regular, regular, regular, regular, regular, regular, regular, regular, regular, regular, regular, regular, regular, regular, regular, regular, regular, regular, regular, regular, regular, regular, regular, regular, regular, regular, regular, regular, regular, regular, regular}], [Flip_4-Rotations(f=1.57080): {regular, regular, regular, regular, regular, regular, regular, regular, regular, regular, regular, regular, regular, regular, regular, regular, regular, regular, regular, regular, regular, regular, regular, regular, regular, regular, regular, regular, regular, regular, regular, regular, regular, regular, regular, regular, regular, regular, regular, regular, regular, regular, regular, regular, regular, regular, regular, regular, regular, regular, regular, regular, regular, regular, regular, regular, regular, regular, regular, regular, regular, regular, regular, regular}], kernel_size=3, stride=1, padding=1)\n",
       "  (relu): ReLU(inplace=False, type=[Flip_4-Rotations(f=1.57080): {regular, regular, regular, regular, regular, regular, regular, regular, regular, regular, regular, regular, regular, regular, regular, regular, regular, regular, regular, regular, regular, regular, regular, regular, regular, regular, regular, regular, regular, regular, regular, regular, regular, regular, regular, regular, regular, regular, regular, regular, regular, regular, regular, regular, regular, regular, regular, regular, regular, regular, regular, regular, regular, regular, regular, regular, regular, regular, regular, regular, regular, regular, regular, regular}])\n",
       "  (linear): Linear(in_features=512, out_features=10, bias=True)\n",
       "  (resnet): ResNet_18(\n",
       "    (conv1): R2Conv([Flip_4-Rotations(f=1.57080): {irrep_0,0, irrep_0,0, irrep_0,0}], [Flip_4-Rotations(f=1.57080): {regular, regular, regular, regular}], kernel_size=3, stride=1, padding=1)\n",
       "    (conv2): R2Conv([Flip_4-Rotations(f=1.57080): {regular, regular, regular, regular}], [Flip_4-Rotations(f=1.57080): {regular, regular, regular, regular}], kernel_size=3, stride=1, padding=1)\n",
       "    (relu): ReLU(inplace=False, type=[Flip_4-Rotations(f=1.57080): {regular, regular, regular, regular}])\n",
       "    (maxpool): PointwiseMaxPool()\n",
       "    (layer1): Sequential(\n",
       "      (0): EquiBasicBlock(\n",
       "        (conv1): R2Conv([Flip_4-Rotations(f=1.57080): {regular, regular, regular, regular}], [Flip_4-Rotations(f=1.57080): {regular, regular, regular, regular, regular, regular, regular, regular}], kernel_size=3, stride=1, padding=1)\n",
       "        (conv2): R2Conv([Flip_4-Rotations(f=1.57080): {regular, regular, regular, regular, regular, regular, regular, regular}], [Flip_4-Rotations(f=1.57080): {regular, regular, regular, regular, regular, regular, regular, regular}], kernel_size=3, stride=1, padding=1)\n",
       "        (relu): ReLU(inplace=False, type=[Flip_4-Rotations(f=1.57080): {regular, regular, regular, regular, regular, regular, regular, regular}])\n",
       "        (down_sample): SequentialModule(\n",
       "          (0): R2Conv([Flip_4-Rotations(f=1.57080): {regular, regular, regular, regular}], [Flip_4-Rotations(f=1.57080): {regular, regular, regular, regular, regular, regular, regular, regular}], kernel_size=1, stride=1)\n",
       "        )\n",
       "      )\n",
       "      (1): EquiBasicBlock(\n",
       "        (conv1): R2Conv([Flip_4-Rotations(f=1.57080): {regular, regular, regular, regular, regular, regular, regular, regular}], [Flip_4-Rotations(f=1.57080): {regular, regular, regular, regular, regular, regular, regular, regular}], kernel_size=3, stride=1, padding=1)\n",
       "        (conv2): R2Conv([Flip_4-Rotations(f=1.57080): {regular, regular, regular, regular, regular, regular, regular, regular}], [Flip_4-Rotations(f=1.57080): {regular, regular, regular, regular, regular, regular, regular, regular}], kernel_size=3, stride=1, padding=1)\n",
       "        (relu): ReLU(inplace=False, type=[Flip_4-Rotations(f=1.57080): {regular, regular, regular, regular, regular, regular, regular, regular}])\n",
       "      )\n",
       "    )\n",
       "    (layer2): Sequential(\n",
       "      (0): PointwiseMaxPool()\n",
       "      (1): EquiBasicBlock(\n",
       "        (conv1): R2Conv([Flip_4-Rotations(f=1.57080): {regular, regular, regular, regular, regular, regular, regular, regular}], [Flip_4-Rotations(f=1.57080): {regular, regular, regular, regular, regular, regular, regular, regular, regular, regular, regular, regular, regular, regular, regular, regular}], kernel_size=3, stride=1, padding=1)\n",
       "        (conv2): R2Conv([Flip_4-Rotations(f=1.57080): {regular, regular, regular, regular, regular, regular, regular, regular, regular, regular, regular, regular, regular, regular, regular, regular}], [Flip_4-Rotations(f=1.57080): {regular, regular, regular, regular, regular, regular, regular, regular, regular, regular, regular, regular, regular, regular, regular, regular}], kernel_size=3, stride=1, padding=1)\n",
       "        (relu): ReLU(inplace=False, type=[Flip_4-Rotations(f=1.57080): {regular, regular, regular, regular, regular, regular, regular, regular, regular, regular, regular, regular, regular, regular, regular, regular}])\n",
       "        (down_sample): SequentialModule(\n",
       "          (0): R2Conv([Flip_4-Rotations(f=1.57080): {regular, regular, regular, regular, regular, regular, regular, regular}], [Flip_4-Rotations(f=1.57080): {regular, regular, regular, regular, regular, regular, regular, regular, regular, regular, regular, regular, regular, regular, regular, regular}], kernel_size=1, stride=1)\n",
       "        )\n",
       "      )\n",
       "      (2): EquiBasicBlock(\n",
       "        (conv1): R2Conv([Flip_4-Rotations(f=1.57080): {regular, regular, regular, regular, regular, regular, regular, regular, regular, regular, regular, regular, regular, regular, regular, regular}], [Flip_4-Rotations(f=1.57080): {regular, regular, regular, regular, regular, regular, regular, regular, regular, regular, regular, regular, regular, regular, regular, regular}], kernel_size=3, stride=1, padding=1)\n",
       "        (conv2): R2Conv([Flip_4-Rotations(f=1.57080): {regular, regular, regular, regular, regular, regular, regular, regular, regular, regular, regular, regular, regular, regular, regular, regular}], [Flip_4-Rotations(f=1.57080): {regular, regular, regular, regular, regular, regular, regular, regular, regular, regular, regular, regular, regular, regular, regular, regular}], kernel_size=3, stride=1, padding=1)\n",
       "        (relu): ReLU(inplace=False, type=[Flip_4-Rotations(f=1.57080): {regular, regular, regular, regular, regular, regular, regular, regular, regular, regular, regular, regular, regular, regular, regular, regular}])\n",
       "      )\n",
       "    )\n",
       "    (layer3): Sequential(\n",
       "      (0): PointwiseMaxPool()\n",
       "      (1): EquiBasicBlock(\n",
       "        (conv1): R2Conv([Flip_4-Rotations(f=1.57080): {regular, regular, regular, regular, regular, regular, regular, regular, regular, regular, regular, regular, regular, regular, regular, regular}], [Flip_4-Rotations(f=1.57080): {regular, regular, regular, regular, regular, regular, regular, regular, regular, regular, regular, regular, regular, regular, regular, regular, regular, regular, regular, regular, regular, regular, regular, regular, regular, regular, regular, regular, regular, regular, regular, regular}], kernel_size=3, stride=1, padding=1)\n",
       "        (conv2): R2Conv([Flip_4-Rotations(f=1.57080): {regular, regular, regular, regular, regular, regular, regular, regular, regular, regular, regular, regular, regular, regular, regular, regular, regular, regular, regular, regular, regular, regular, regular, regular, regular, regular, regular, regular, regular, regular, regular, regular}], [Flip_4-Rotations(f=1.57080): {regular, regular, regular, regular, regular, regular, regular, regular, regular, regular, regular, regular, regular, regular, regular, regular, regular, regular, regular, regular, regular, regular, regular, regular, regular, regular, regular, regular, regular, regular, regular, regular}], kernel_size=3, stride=1, padding=1)\n",
       "        (relu): ReLU(inplace=False, type=[Flip_4-Rotations(f=1.57080): {regular, regular, regular, regular, regular, regular, regular, regular, regular, regular, regular, regular, regular, regular, regular, regular, regular, regular, regular, regular, regular, regular, regular, regular, regular, regular, regular, regular, regular, regular, regular, regular}])\n",
       "        (down_sample): SequentialModule(\n",
       "          (0): R2Conv([Flip_4-Rotations(f=1.57080): {regular, regular, regular, regular, regular, regular, regular, regular, regular, regular, regular, regular, regular, regular, regular, regular}], [Flip_4-Rotations(f=1.57080): {regular, regular, regular, regular, regular, regular, regular, regular, regular, regular, regular, regular, regular, regular, regular, regular, regular, regular, regular, regular, regular, regular, regular, regular, regular, regular, regular, regular, regular, regular, regular, regular}], kernel_size=1, stride=1)\n",
       "        )\n",
       "      )\n",
       "      (2): EquiBasicBlock(\n",
       "        (conv1): R2Conv([Flip_4-Rotations(f=1.57080): {regular, regular, regular, regular, regular, regular, regular, regular, regular, regular, regular, regular, regular, regular, regular, regular, regular, regular, regular, regular, regular, regular, regular, regular, regular, regular, regular, regular, regular, regular, regular, regular}], [Flip_4-Rotations(f=1.57080): {regular, regular, regular, regular, regular, regular, regular, regular, regular, regular, regular, regular, regular, regular, regular, regular, regular, regular, regular, regular, regular, regular, regular, regular, regular, regular, regular, regular, regular, regular, regular, regular}], kernel_size=3, stride=1, padding=1)\n",
       "        (conv2): R2Conv([Flip_4-Rotations(f=1.57080): {regular, regular, regular, regular, regular, regular, regular, regular, regular, regular, regular, regular, regular, regular, regular, regular, regular, regular, regular, regular, regular, regular, regular, regular, regular, regular, regular, regular, regular, regular, regular, regular}], [Flip_4-Rotations(f=1.57080): {regular, regular, regular, regular, regular, regular, regular, regular, regular, regular, regular, regular, regular, regular, regular, regular, regular, regular, regular, regular, regular, regular, regular, regular, regular, regular, regular, regular, regular, regular, regular, regular}], kernel_size=3, stride=1, padding=1)\n",
       "        (relu): ReLU(inplace=False, type=[Flip_4-Rotations(f=1.57080): {regular, regular, regular, regular, regular, regular, regular, regular, regular, regular, regular, regular, regular, regular, regular, regular, regular, regular, regular, regular, regular, regular, regular, regular, regular, regular, regular, regular, regular, regular, regular, regular}])\n",
       "      )\n",
       "    )\n",
       "    (layer4): Sequential(\n",
       "      (0): PointwiseMaxPool()\n",
       "      (1): EquiBasicBlock(\n",
       "        (conv1): R2Conv([Flip_4-Rotations(f=1.57080): {regular, regular, regular, regular, regular, regular, regular, regular, regular, regular, regular, regular, regular, regular, regular, regular, regular, regular, regular, regular, regular, regular, regular, regular, regular, regular, regular, regular, regular, regular, regular, regular}], [Flip_4-Rotations(f=1.57080): {regular, regular, regular, regular, regular, regular, regular, regular, regular, regular, regular, regular, regular, regular, regular, regular, regular, regular, regular, regular, regular, regular, regular, regular, regular, regular, regular, regular, regular, regular, regular, regular, regular, regular, regular, regular, regular, regular, regular, regular, regular, regular, regular, regular, regular, regular, regular, regular, regular, regular, regular, regular, regular, regular, regular, regular, regular, regular, regular, regular, regular, regular, regular, regular}], kernel_size=3, stride=1, padding=1)\n",
       "        (conv2): R2Conv([Flip_4-Rotations(f=1.57080): {regular, regular, regular, regular, regular, regular, regular, regular, regular, regular, regular, regular, regular, regular, regular, regular, regular, regular, regular, regular, regular, regular, regular, regular, regular, regular, regular, regular, regular, regular, regular, regular, regular, regular, regular, regular, regular, regular, regular, regular, regular, regular, regular, regular, regular, regular, regular, regular, regular, regular, regular, regular, regular, regular, regular, regular, regular, regular, regular, regular, regular, regular, regular, regular}], [Flip_4-Rotations(f=1.57080): {regular, regular, regular, regular, regular, regular, regular, regular, regular, regular, regular, regular, regular, regular, regular, regular, regular, regular, regular, regular, regular, regular, regular, regular, regular, regular, regular, regular, regular, regular, regular, regular, regular, regular, regular, regular, regular, regular, regular, regular, regular, regular, regular, regular, regular, regular, regular, regular, regular, regular, regular, regular, regular, regular, regular, regular, regular, regular, regular, regular, regular, regular, regular, regular}], kernel_size=3, stride=1, padding=1)\n",
       "        (relu): ReLU(inplace=False, type=[Flip_4-Rotations(f=1.57080): {regular, regular, regular, regular, regular, regular, regular, regular, regular, regular, regular, regular, regular, regular, regular, regular, regular, regular, regular, regular, regular, regular, regular, regular, regular, regular, regular, regular, regular, regular, regular, regular, regular, regular, regular, regular, regular, regular, regular, regular, regular, regular, regular, regular, regular, regular, regular, regular, regular, regular, regular, regular, regular, regular, regular, regular, regular, regular, regular, regular, regular, regular, regular, regular}])\n",
       "        (down_sample): SequentialModule(\n",
       "          (0): R2Conv([Flip_4-Rotations(f=1.57080): {regular, regular, regular, regular, regular, regular, regular, regular, regular, regular, regular, regular, regular, regular, regular, regular, regular, regular, regular, regular, regular, regular, regular, regular, regular, regular, regular, regular, regular, regular, regular, regular}], [Flip_4-Rotations(f=1.57080): {regular, regular, regular, regular, regular, regular, regular, regular, regular, regular, regular, regular, regular, regular, regular, regular, regular, regular, regular, regular, regular, regular, regular, regular, regular, regular, regular, regular, regular, regular, regular, regular, regular, regular, regular, regular, regular, regular, regular, regular, regular, regular, regular, regular, regular, regular, regular, regular, regular, regular, regular, regular, regular, regular, regular, regular, regular, regular, regular, regular, regular, regular, regular, regular}], kernel_size=1, stride=1)\n",
       "        )\n",
       "      )\n",
       "      (2): EquiBasicBlock(\n",
       "        (conv1): R2Conv([Flip_4-Rotations(f=1.57080): {regular, regular, regular, regular, regular, regular, regular, regular, regular, regular, regular, regular, regular, regular, regular, regular, regular, regular, regular, regular, regular, regular, regular, regular, regular, regular, regular, regular, regular, regular, regular, regular, regular, regular, regular, regular, regular, regular, regular, regular, regular, regular, regular, regular, regular, regular, regular, regular, regular, regular, regular, regular, regular, regular, regular, regular, regular, regular, regular, regular, regular, regular, regular, regular}], [Flip_4-Rotations(f=1.57080): {regular, regular, regular, regular, regular, regular, regular, regular, regular, regular, regular, regular, regular, regular, regular, regular, regular, regular, regular, regular, regular, regular, regular, regular, regular, regular, regular, regular, regular, regular, regular, regular, regular, regular, regular, regular, regular, regular, regular, regular, regular, regular, regular, regular, regular, regular, regular, regular, regular, regular, regular, regular, regular, regular, regular, regular, regular, regular, regular, regular, regular, regular, regular, regular}], kernel_size=3, stride=1, padding=1)\n",
       "        (conv2): R2Conv([Flip_4-Rotations(f=1.57080): {regular, regular, regular, regular, regular, regular, regular, regular, regular, regular, regular, regular, regular, regular, regular, regular, regular, regular, regular, regular, regular, regular, regular, regular, regular, regular, regular, regular, regular, regular, regular, regular, regular, regular, regular, regular, regular, regular, regular, regular, regular, regular, regular, regular, regular, regular, regular, regular, regular, regular, regular, regular, regular, regular, regular, regular, regular, regular, regular, regular, regular, regular, regular, regular}], [Flip_4-Rotations(f=1.57080): {regular, regular, regular, regular, regular, regular, regular, regular, regular, regular, regular, regular, regular, regular, regular, regular, regular, regular, regular, regular, regular, regular, regular, regular, regular, regular, regular, regular, regular, regular, regular, regular, regular, regular, regular, regular, regular, regular, regular, regular, regular, regular, regular, regular, regular, regular, regular, regular, regular, regular, regular, regular, regular, regular, regular, regular, regular, regular, regular, regular, regular, regular, regular, regular}], kernel_size=3, stride=1, padding=1)\n",
       "        (relu): ReLU(inplace=False, type=[Flip_4-Rotations(f=1.57080): {regular, regular, regular, regular, regular, regular, regular, regular, regular, regular, regular, regular, regular, regular, regular, regular, regular, regular, regular, regular, regular, regular, regular, regular, regular, regular, regular, regular, regular, regular, regular, regular, regular, regular, regular, regular, regular, regular, regular, regular, regular, regular, regular, regular, regular, regular, regular, regular, regular, regular, regular, regular, regular, regular, regular, regular, regular, regular, regular, regular, regular, regular, regular, regular}])\n",
       "      )\n",
       "    )\n",
       "  )\n",
       ")"
      ]
     },
     "metadata": {},
     "execution_count": 11
    }
   ]
  },
  {
   "cell_type": "code",
   "source": [
    "eqnet.load_state_dict(torch.load('/content/D4.pth'))\n",
    "net.load_state_dict(torch.load('/content/CNN.pth'))"
   ],
   "metadata": {
    "colab": {
     "base_uri": "https://localhost:8080/"
    },
    "id": "TpjkgxIQRnpB",
    "executionInfo": {
     "status": "ok",
     "timestamp": 1713916258962,
     "user_tz": 240,
     "elapsed": 694,
     "user": {
      "displayName": "Alexander Estornell",
      "userId": "10611422158728444955"
     }
    },
    "outputId": "fb53ee9b-f66f-46a5-d51d-98fab7858ceb"
   },
   "execution_count": null,
   "outputs": [
    {
     "output_type": "execute_result",
     "data": {
      "text/plain": [
       "<All keys matched successfully>"
      ]
     },
     "metadata": {},
     "execution_count": 12
    }
   ]
  },
  {
   "cell_type": "code",
   "source": [
    "MEAN = np.array([125.3, 123.0, 113.9]) / 255.0  # = np.array([0.49137255, 0.48235294, 0.44666667])\n",
    "STD = np.array([63.0, 62.1, 66.7]) / 255.0  # = np.array([0.24705882, 0.24352941, 0.26156863])\n",
    "\n",
    "normalize = transforms.Normalize(\n",
    "    mean=MEAN,\n",
    "    std=STD,\n",
    ")\n",
    "\n",
    "transform = transforms.Compose([\n",
    "    transforms.ToTensor(),\n",
    "    normalize\n",
    "])"
   ],
   "metadata": {
    "id": "c84jeZg-25qi"
   },
   "execution_count": null,
   "outputs": []
  },
  {
   "cell_type": "code",
   "source": [
    "type_list = ['plane', 'car', 'bird', 'cat', 'deer', 'dog', 'frog', 'horse', 'ship', 'truck']\n",
    "\n",
    "files = []\n",
    "\n",
    "for objClass in type_list:\n",
    "\n",
    "  path = f'./cifar10/cifar10_64/train/{objClass}'\n",
    "\n",
    "  subfiles = sorted([f for f in os.listdir(path)])\n",
    "\n",
    "  for file in subfiles:\n",
    "\n",
    "    files += [f'{objClass}/{file}']"
   ],
   "metadata": {
    "id": "pvFKjDam09RW"
   },
   "execution_count": null,
   "outputs": []
  },
  {
   "cell_type": "code",
   "source": [
    "def plot_feature_map():\n",
    "\n",
    "    id = int(input(\"Enter Image ID: \"))\n",
    "    angle = int(input(\"Enter Rotation Angle in Euclidean Angle (multiples of 45 and < 360): \"))\n",
    "\n",
    "    img_path = files[id]\n",
    "\n",
    "    path = f'./cifar10/cifar10_64/train/'\n",
    "\n",
    "    image = Image.open(os.path.join(path, img_path)).convert('RGB')\n",
    "    image = transform(image)\n",
    "\n",
    "    # Load the image to the device\n",
    "    image = image.to(device)\n",
    "\n",
    "    rotated_image = rotate_image(image, angle).unsqueeze(0)\n",
    "\n",
    "    outputs, resnet_output = net(rotated_image)\n",
    "    eq_outputs, eq_resnet_output = eqnet(rotated_image)\n",
    "\n",
    "    equi_feature = get_feature_map(eq_resnet_output[1][0].tensor.squeeze(0), N=8)\n",
    "    resnet_feature = get_feature_map(resnet_output[1][0].squeeze(0), N=8)\n",
    "\n",
    "    fig, (ax1, ax2, ax3, ax4) = plt.subplots(1, 4)\n",
    "\n",
    "    ax1.axis('off')\n",
    "    ax1.imshow(image.permute(1,2,0).detach().cpu().numpy().astype(np.float64))\n",
    "    ax2.axis('off')\n",
    "    ax2.imshow(rotated_image.squeeze(0).permute(1,2,0).detach().cpu().numpy().astype(np.float64))\n",
    "    ax3.axis('off')\n",
    "    ax3.imshow(equi_feature.detach().cpu().numpy())\n",
    "    ax4.axis('off')\n",
    "    ax4.imshow(resnet_feature.detach().cpu().numpy())\n",
    "    plt.show()"
   ],
   "metadata": {
    "id": "QHbwZ6CAuTBW"
   },
   "execution_count": null,
   "outputs": []
  },
  {
   "cell_type": "code",
   "source": [
    "def run():\n",
    "  while True:\n",
    "    plot_feature_map()\n",
    "\n",
    "    t = input(\"Press Enter to continue or e/E to exit: \")\n",
    "\n",
    "    if t == 'e' or t == 'E':\n",
    "      break"
   ],
   "metadata": {
    "id": "l7HDrXXTwnr5"
   },
   "execution_count": null,
   "outputs": []
  },
  {
   "cell_type": "markdown",
   "source": [
    "# Run\n",
    "\n",
    "To run the visualization, first run through all the previous cells, then launch the following cell.\n",
    "\n",
    "Note the previous cells do not need to be run again afterward."
   ],
   "metadata": {
    "id": "LEkBaZT33nRE"
   }
  },
  {
   "cell_type": "code",
   "source": [
    "plot_feature_map()"
   ],
   "metadata": {
    "colab": {
     "base_uri": "https://localhost:8080/",
     "height": 215
    },
    "id": "lrpjDZ06wout",
    "outputId": "29e05d1e-995f-41df-c553-34383bbfabea",
    "executionInfo": {
     "status": "ok",
     "timestamp": 1713929900214,
     "user_tz": 240,
     "elapsed": 4028,
     "user": {
      "displayName": "Philip Dong",
      "userId": "11981211948978472354"
     }
    }
   },
   "execution_count": null,
   "outputs": [
    {
     "name": "stdout",
     "output_type": "stream",
     "text": [
      "Enter Image ID: 7563\n",
      "Enter Rotation Angle in Euclidean Angle (multiples of 45 and < 360): 45\n"
     ]
    },
    {
     "output_type": "stream",
     "name": "stderr",
     "text": [
      "WARNING:matplotlib.image:Clipping input data to the valid range for imshow with RGB data ([0..1] for floats or [0..255] for integers).\n",
      "WARNING:matplotlib.image:Clipping input data to the valid range for imshow with RGB data ([0..1] for floats or [0..255] for integers).\n"
     ]
    },
    {
     "output_type": "display_data",
     "data": {
      "text/plain": [
       "<Figure size 640x480 with 4 Axes>"
      ],
      "image/png": "[encoded data removed]"
     },
     "metadata": {}
    }
   ]
  },
  {
   "cell_type": "code",
   "source": [],
   "metadata": {
    "id": "WKxiAsts5aNb"
   },
   "execution_count": null,
   "outputs": []
  }
 ],
 "metadata": {
  "colab": {
   "provenance": [],
   "collapsed_sections": [
    "f3Vr57U3j4xD",
    "aFOMrVJGj9cW",
    "odZGunvQkDxW"
   ]
  },
  "kernelspec": {
   "display_name": "Python 3",
   "name": "python3"
  },
  "language_info": {
   "name": "python"
  }
 },
 "nbformat": 4,
 "nbformat_minor": 0
}
